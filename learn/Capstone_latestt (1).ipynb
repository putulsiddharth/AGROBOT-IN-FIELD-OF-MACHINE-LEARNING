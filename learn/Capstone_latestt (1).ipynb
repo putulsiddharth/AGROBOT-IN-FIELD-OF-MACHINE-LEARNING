{
 "cells": [
  {
   "cell_type": "markdown",
   "metadata": {},
   "source": [
    "## Importing the necessary packages"
   ]
  },
  {
   "cell_type": "code",
   "execution_count": 1,
   "metadata": {},
   "outputs": [],
   "source": [
    "from __future__ import print_function\n",
    "import pandas as pd\n",
    "import numpy as np\n",
    "import matplotlib.pyplot as plt\n",
    "import seaborn as sns\n",
    "from sklearn.metrics import classification_report\n",
    "from sklearn import metrics\n",
    "from sklearn import tree\n",
    "from sklearn.utils import shuffle\n",
    "from sklearn.preprocessing import LabelEncoder\n",
    "from sklearn.model_selection import cross_val_score\n",
    "import warnings\n",
    "warnings.filterwarnings('ignore')"
   ]
  },
  {
   "cell_type": "markdown",
   "metadata": {},
   "source": [
    "## Importing the crop_recommendation.csv file and showing its details"
   ]
  },
  {
   "cell_type": "code",
   "execution_count": 2,
   "metadata": {},
   "outputs": [
    {
     "data": {
      "text/html": [
       "<div>\n",
       "<style scoped>\n",
       "    .dataframe tbody tr th:only-of-type {\n",
       "        vertical-align: middle;\n",
       "    }\n",
       "\n",
       "    .dataframe tbody tr th {\n",
       "        vertical-align: top;\n",
       "    }\n",
       "\n",
       "    .dataframe thead th {\n",
       "        text-align: right;\n",
       "    }\n",
       "</style>\n",
       "<table border=\"1\" class=\"dataframe\">\n",
       "  <thead>\n",
       "    <tr style=\"text-align: right;\">\n",
       "      <th></th>\n",
       "      <th>N</th>\n",
       "      <th>P</th>\n",
       "      <th>K</th>\n",
       "      <th>temperature</th>\n",
       "      <th>humidity</th>\n",
       "      <th>ph</th>\n",
       "      <th>rainfall</th>\n",
       "      <th>Crop</th>\n",
       "      <th>dewPoint</th>\n",
       "      <th>precipIntensity</th>\n",
       "      <th>pressure</th>\n",
       "      <th>visibility</th>\n",
       "      <th>windBearing</th>\n",
       "      <th>windSpeed</th>\n",
       "      <th>Yield</th>\n",
       "    </tr>\n",
       "  </thead>\n",
       "  <tbody>\n",
       "    <tr>\n",
       "      <td>0</td>\n",
       "      <td>90</td>\n",
       "      <td>42</td>\n",
       "      <td>43</td>\n",
       "      <td>20.879744</td>\n",
       "      <td>82.002744</td>\n",
       "      <td>6.502985</td>\n",
       "      <td>202.935536</td>\n",
       "      <td>rice</td>\n",
       "      <td>29.53</td>\n",
       "      <td>0.0000</td>\n",
       "      <td>1027.13</td>\n",
       "      <td>2.46</td>\n",
       "      <td>214</td>\n",
       "      <td>1.18</td>\n",
       "      <td>35.7</td>\n",
       "    </tr>\n",
       "    <tr>\n",
       "      <td>1</td>\n",
       "      <td>85</td>\n",
       "      <td>58</td>\n",
       "      <td>41</td>\n",
       "      <td>21.770462</td>\n",
       "      <td>80.319644</td>\n",
       "      <td>7.038096</td>\n",
       "      <td>226.655537</td>\n",
       "      <td>rice</td>\n",
       "      <td>29.77</td>\n",
       "      <td>0.0001</td>\n",
       "      <td>1026.87</td>\n",
       "      <td>2.83</td>\n",
       "      <td>166</td>\n",
       "      <td>1.01</td>\n",
       "      <td>35.7</td>\n",
       "    </tr>\n",
       "    <tr>\n",
       "      <td>2</td>\n",
       "      <td>60</td>\n",
       "      <td>55</td>\n",
       "      <td>44</td>\n",
       "      <td>23.004459</td>\n",
       "      <td>82.320763</td>\n",
       "      <td>7.840207</td>\n",
       "      <td>263.964248</td>\n",
       "      <td>rice</td>\n",
       "      <td>29.36</td>\n",
       "      <td>0.0001</td>\n",
       "      <td>1026.88</td>\n",
       "      <td>2.95</td>\n",
       "      <td>158</td>\n",
       "      <td>1.03</td>\n",
       "      <td>35.7</td>\n",
       "    </tr>\n",
       "    <tr>\n",
       "      <td>3</td>\n",
       "      <td>74</td>\n",
       "      <td>35</td>\n",
       "      <td>40</td>\n",
       "      <td>26.491096</td>\n",
       "      <td>80.158363</td>\n",
       "      <td>6.980401</td>\n",
       "      <td>242.864034</td>\n",
       "      <td>rice</td>\n",
       "      <td>29.47</td>\n",
       "      <td>0.0002</td>\n",
       "      <td>1026.37</td>\n",
       "      <td>2.89</td>\n",
       "      <td>153</td>\n",
       "      <td>1.84</td>\n",
       "      <td>35.7</td>\n",
       "    </tr>\n",
       "    <tr>\n",
       "      <td>4</td>\n",
       "      <td>78</td>\n",
       "      <td>42</td>\n",
       "      <td>42</td>\n",
       "      <td>20.130175</td>\n",
       "      <td>81.604873</td>\n",
       "      <td>7.628473</td>\n",
       "      <td>262.717340</td>\n",
       "      <td>rice</td>\n",
       "      <td>29.86</td>\n",
       "      <td>0.0003</td>\n",
       "      <td>1026.19</td>\n",
       "      <td>2.97</td>\n",
       "      <td>156</td>\n",
       "      <td>1.85</td>\n",
       "      <td>35.7</td>\n",
       "    </tr>\n",
       "  </tbody>\n",
       "</table>\n",
       "</div>"
      ],
      "text/plain": [
       "    N   P   K  temperature   humidity        ph    rainfall  Crop  dewPoint  \\\n",
       "0  90  42  43    20.879744  82.002744  6.502985  202.935536  rice     29.53   \n",
       "1  85  58  41    21.770462  80.319644  7.038096  226.655537  rice     29.77   \n",
       "2  60  55  44    23.004459  82.320763  7.840207  263.964248  rice     29.36   \n",
       "3  74  35  40    26.491096  80.158363  6.980401  242.864034  rice     29.47   \n",
       "4  78  42  42    20.130175  81.604873  7.628473  262.717340  rice     29.86   \n",
       "\n",
       "   precipIntensity  pressure  visibility  windBearing  windSpeed  Yield  \n",
       "0           0.0000   1027.13        2.46          214       1.18   35.7  \n",
       "1           0.0001   1026.87        2.83          166       1.01   35.7  \n",
       "2           0.0001   1026.88        2.95          158       1.03   35.7  \n",
       "3           0.0002   1026.37        2.89          153       1.84   35.7  \n",
       "4           0.0003   1026.19        2.97          156       1.85   35.7  "
      ]
     },
     "execution_count": 2,
     "metadata": {},
     "output_type": "execute_result"
    }
   ],
   "source": [
    "df=pd.read_csv(r\"C:\\Users\\PUTUL SIDDHARTH\\Desktop\\learn\\final_dataset_april.csv\")\n",
    "df.head()"
   ]
  },
  {
   "cell_type": "code",
   "execution_count": 3,
   "metadata": {},
   "outputs": [
    {
     "data": {
      "text/plain": [
       "(2200, 15)"
      ]
     },
     "execution_count": 3,
     "metadata": {},
     "output_type": "execute_result"
    }
   ],
   "source": [
    "df.shape"
   ]
  },
  {
   "cell_type": "markdown",
   "metadata": {},
   "source": [
    "## Below are the factors/attributes we will be training upon"
   ]
  },
  {
   "cell_type": "code",
   "execution_count": 4,
   "metadata": {},
   "outputs": [
    {
     "data": {
      "text/plain": [
       "Index(['N', 'P', 'K', 'temperature', 'humidity', 'ph', 'rainfall', 'Crop',\n",
       "       'dewPoint', 'precipIntensity', 'pressure', 'visibility', 'windBearing',\n",
       "       'windSpeed', 'Yield'],\n",
       "      dtype='object')"
      ]
     },
     "execution_count": 4,
     "metadata": {},
     "output_type": "execute_result"
    }
   ],
   "source": [
    "df.columns"
   ]
  },
  {
   "cell_type": "markdown",
   "metadata": {},
   "source": [
    "## These are the crops which will be recommended after training our model"
   ]
  },
  {
   "cell_type": "code",
   "execution_count": 5,
   "metadata": {},
   "outputs": [
    {
     "data": {
      "text/plain": [
       "array(['rice', 'maize', 'chickpea', 'kidneybeans', 'pigeonpeas',\n",
       "       'mothbeans', 'mungbean', 'blackgram', 'lentil', 'pomegranate',\n",
       "       'banana', 'mango', 'grapes', 'watermelon', 'muskmelon', 'apple',\n",
       "       'orange', 'papaya', 'coconut', 'cotton', 'jute', 'coffee'],\n",
       "      dtype=object)"
      ]
     },
     "execution_count": 5,
     "metadata": {},
     "output_type": "execute_result"
    }
   ],
   "source": [
    "df['Crop'].unique()"
   ]
  },
  {
   "cell_type": "code",
   "execution_count": null,
   "metadata": {},
   "outputs": [],
   "source": []
  },
  {
   "cell_type": "markdown",
   "metadata": {},
   "source": [
    "## Heatmap is generally used to show correlation between different attributes of a dataset"
   ]
  },
  {
   "cell_type": "code",
   "execution_count": 6,
   "metadata": {},
   "outputs": [
    {
     "data": {
      "image/png": "[encoded data removed]",
      "text/plain": [
       "<Figure size 864x720 with 2 Axes>"
      ]
     },
     "metadata": {
      "needs_background": "light"
     },
     "output_type": "display_data"
    }
   ],
   "source": [
    "labelencoder = LabelEncoder()\n",
    "df['newCrop'] = labelencoder.fit_transform(df['Crop'])\n",
    "plt.figure(figsize=(12,10))\n",
    "cor = df.corr()\n",
    "sns.heatmap(cor, annot=True, cmap=plt.cm.Reds)\n",
    "plt.show()"
   ]
  },
  {
   "cell_type": "markdown",
   "metadata": {},
   "source": [
    "## Keeping training attributes in features variable and output attribute in target variable"
   ]
  },
  {
   "cell_type": "code",
   "execution_count": 7,
   "metadata": {},
   "outputs": [],
   "source": [
    "features = df[['N', 'P','K','temperature', 'humidity', 'ph', 'rainfall']]\n",
    "target = df['Crop']\n",
    "labels = df['Crop']\n",
    "acc = []\n",
    "model = []"
   ]
  },
  {
   "cell_type": "raw",
   "metadata": {},
   "source": []
  },
  {
   "cell_type": "markdown",
   "metadata": {},
   "source": [
    "## Cleaning the dataset in case there are null values present in the dataset"
   ]
  },
  {
   "cell_type": "code",
   "execution_count": 8,
   "metadata": {},
   "outputs": [],
   "source": [
    "df['N'].fillna(df['N'].median(), inplace = True)\n",
    "df['P'].fillna(df['P'].median(), inplace = True)\n",
    "df['K'].fillna(df['K'].median(), inplace = True)\n",
    "df['temperature'].fillna(df['temperature'].median(), inplace = True)\n",
    "df['humidity'].fillna(df['humidity'].median(), inplace = True)\n",
    "df['ph'].fillna(df['ph'].median(), inplace = True)\n",
    "df['rainfall'].fillna(df['rainfall'].median(), inplace = True)"
   ]
  },
  {
   "cell_type": "markdown",
   "metadata": {},
   "source": [
    "## Normalizing the dataset using Standard Scaler to increase efficiency of our ML Models"
   ]
  },
  {
   "cell_type": "code",
   "execution_count": 9,
   "metadata": {},
   "outputs": [],
   "source": [
    "from sklearn.preprocessing import StandardScaler\n",
    "s_sc = StandardScaler()\n",
    "col_to_scale = ['N', 'P','K','temperature', 'humidity', 'ph', 'rainfall']\n",
    "feature= s_sc.fit_transform(features[col_to_scale])"
   ]
  },
  {
   "cell_type": "code",
   "execution_count": 10,
   "metadata": {},
   "outputs": [],
   "source": [
    "y = df.loc[:,'Crop']\n",
    "labelEncoder_y = LabelEncoder()\n",
    "labelEncoder_y.fit(y)\n",
    "integer_mapping = {l: i for i, l in enumerate(labelEncoder_y.classes_)}\n",
    "y = labelEncoder_y.transform(y)"
   ]
  },
  {
   "cell_type": "code",
   "execution_count": 11,
   "metadata": {},
   "outputs": [
    {
     "data": {
      "text/plain": [
       "{'apple': 0,\n",
       " 'banana': 1,\n",
       " 'blackgram': 2,\n",
       " 'chickpea': 3,\n",
       " 'coconut': 4,\n",
       " 'coffee': 5,\n",
       " 'cotton': 6,\n",
       " 'grapes': 7,\n",
       " 'jute': 8,\n",
       " 'kidneybeans': 9,\n",
       " 'lentil': 10,\n",
       " 'maize': 11,\n",
       " 'mango': 12,\n",
       " 'mothbeans': 13,\n",
       " 'mungbean': 14,\n",
       " 'muskmelon': 15,\n",
       " 'orange': 16,\n",
       " 'papaya': 17,\n",
       " 'pigeonpeas': 18,\n",
       " 'pomegranate': 19,\n",
       " 'rice': 20,\n",
       " 'watermelon': 21}"
      ]
     },
     "execution_count": 11,
     "metadata": {},
     "output_type": "execute_result"
    }
   ],
   "source": [
    "integer_mapping"
   ]
  },
  {
   "cell_type": "code",
   "execution_count": 12,
   "metadata": {},
   "outputs": [
    {
     "data": {
      "text/plain": [
       "{0: 'apple',\n",
       " 1: 'banana',\n",
       " 2: 'blackgram',\n",
       " 3: 'chickpea',\n",
       " 4: 'coconut',\n",
       " 5: 'coffee',\n",
       " 6: 'cotton',\n",
       " 7: 'grapes',\n",
       " 8: 'jute',\n",
       " 9: 'kidneybeans',\n",
       " 10: 'lentil',\n",
       " 11: 'maize',\n",
       " 12: 'mango',\n",
       " 13: 'mothbeans',\n",
       " 14: 'mungbean',\n",
       " 15: 'muskmelon',\n",
       " 16: 'orange',\n",
       " 17: 'papaya',\n",
       " 18: 'pigeonpeas',\n",
       " 19: 'pomegranate',\n",
       " 20: 'rice',\n",
       " 21: 'watermelon'}"
      ]
     },
     "execution_count": 12,
     "metadata": {},
     "output_type": "execute_result"
    }
   ],
   "source": [
    "new_mapping = dict([(value, key) for key, value in integer_mapping.items()]) \n",
    "new_mapping"
   ]
  },
  {
   "cell_type": "code",
   "execution_count": 13,
   "metadata": {},
   "outputs": [],
   "source": [
    "(pd.DataFrame.from_dict(data=new_mapping, orient='index')\n",
    "   .to_csv('mapping_code_crop_predict.csv', header=False))"
   ]
  },
  {
   "cell_type": "code",
   "execution_count": null,
   "metadata": {},
   "outputs": [],
   "source": []
  },
  {
   "cell_type": "markdown",
   "metadata": {},
   "source": [
    "## Separating our dataset into training and testing datasets to check our model accuracy"
   ]
  },
  {
   "cell_type": "code",
   "execution_count": 14,
   "metadata": {},
   "outputs": [],
   "source": [
    "from sklearn.model_selection import train_test_split\n",
    "Xtrain, Xtest, Ytrain, Ytest = train_test_split(features,target,test_size = 0.3,random_state =2)"
   ]
  },
  {
   "cell_type": "code",
   "execution_count": 15,
   "metadata": {},
   "outputs": [
    {
     "name": "stdout",
     "output_type": "stream",
     "text": [
      "Data1 Shape: (2200, 16)\n",
      "Train1 Shape: (1540, 7)\n",
      "Test1 Shape: (660, 7)\n"
     ]
    }
   ],
   "source": [
    "print(\"Data1 Shape: {}\".format(df.shape))\n",
    "print(\"Train1 Shape: {}\".format(Xtrain.shape))\n",
    "print(\"Test1 Shape: {}\".format(Xtest.shape))"
   ]
  },
  {
   "cell_type": "markdown",
   "metadata": {},
   "source": [
    "## Training our dataset with DecisionTreeClassifier model"
   ]
  },
  {
   "cell_type": "code",
   "execution_count": 16,
   "metadata": {},
   "outputs": [
    {
     "name": "stdout",
     "output_type": "stream",
     "text": [
      "DecisionTrees's Accuracy is:  85.9090909090909\n",
      "              precision    recall  f1-score   support\n",
      "\n",
      "       apple       1.00      1.00      1.00        28\n",
      "      banana       1.00      1.00      1.00        26\n",
      "   blackgram       0.65      1.00      0.79        28\n",
      "    chickpea       1.00      1.00      1.00        29\n",
      "     coconut       0.94      1.00      0.97        31\n",
      "      coffee       1.00      1.00      1.00        33\n",
      "      cotton       1.00      0.97      0.98        31\n",
      "      grapes       1.00      1.00      1.00        29\n",
      "        jute       0.50      0.03      0.06        33\n",
      " kidneybeans       0.00      0.00      0.00        30\n",
      "      lentil       0.63      1.00      0.77        32\n",
      "       maize       0.97      1.00      0.98        32\n",
      "       mango       1.00      1.00      1.00        33\n",
      "   mothbeans       0.00      0.00      0.00        29\n",
      "    mungbean       1.00      1.00      1.00        32\n",
      "   muskmelon       1.00      1.00      1.00        30\n",
      "      orange       1.00      1.00      1.00        42\n",
      "      papaya       1.00      1.00      1.00        30\n",
      "  pigeonpeas       0.55      1.00      0.71        31\n",
      " pomegranate       1.00      1.00      1.00        19\n",
      "        rice       0.49      0.97      0.65        30\n",
      "  watermelon       1.00      1.00      1.00        22\n",
      "\n",
      "    accuracy                           0.86       660\n",
      "   macro avg       0.81      0.86      0.81       660\n",
      "weighted avg       0.80      0.86      0.81       660\n",
      "\n"
     ]
    }
   ],
   "source": [
    "from sklearn.tree import DecisionTreeClassifier\n",
    "\n",
    "DecisionTree = DecisionTreeClassifier(criterion=\"entropy\",random_state=2,max_depth=5)\n",
    "\n",
    "DecisionTree.fit(Xtrain,Ytrain)\n",
    "\n",
    "predicted_values = DecisionTree.predict(Xtest)\n",
    "x = metrics.accuracy_score(Ytest, predicted_values)\n",
    "acc.append(x)\n",
    "model.append('Decision Tree')\n",
    "print(\"DecisionTrees's Accuracy is: \", x*100)\n",
    "\n",
    "print(classification_report(Ytest,predicted_values))"
   ]
  },
  {
   "cell_type": "markdown",
   "metadata": {},
   "source": [
    "## Cross validation is done to avoid overfitting in Machine Learning"
   ]
  },
  {
   "cell_type": "code",
   "execution_count": 17,
   "metadata": {},
   "outputs": [
    {
     "data": {
      "text/plain": [
       "array([0.93636364, 0.90909091, 0.91818182, 0.87045455, 0.93636364])"
      ]
     },
     "execution_count": 17,
     "metadata": {},
     "output_type": "execute_result"
    }
   ],
   "source": [
    "from sklearn.model_selection import cross_val_score\n",
    "score = cross_val_score(DecisionTree, features, target,cv=5)\n",
    "score"
   ]
  },
  {
   "cell_type": "code",
   "execution_count": null,
   "metadata": {},
   "outputs": [],
   "source": []
  },
  {
   "cell_type": "code",
   "execution_count": null,
   "metadata": {},
   "outputs": [],
   "source": []
  },
  {
   "cell_type": "markdown",
   "metadata": {},
   "source": [
    "## Training our dataset with Support Vector Machine model"
   ]
  },
  {
   "cell_type": "code",
   "execution_count": 18,
   "metadata": {},
   "outputs": [
    {
     "name": "stdout",
     "output_type": "stream",
     "text": [
      "SVM's Accuracy is:  0.07272727272727272\n",
      "              precision    recall  f1-score   support\n",
      "\n",
      "       apple       1.00      0.11      0.19        28\n",
      "      banana       1.00      0.12      0.21        26\n",
      "   blackgram       1.00      0.07      0.13        28\n",
      "    chickpea       1.00      0.03      0.07        29\n",
      "     coconut       0.00      0.00      0.00        31\n",
      "      coffee       0.00      0.00      0.00        33\n",
      "      cotton       1.00      0.06      0.12        31\n",
      "      grapes       0.00      0.00      0.00        29\n",
      "        jute       0.00      0.00      0.00        33\n",
      " kidneybeans       1.00      0.03      0.06        30\n",
      "      lentil       0.00      0.00      0.00        32\n",
      "       maize       0.00      0.00      0.00        32\n",
      "       mango       0.00      0.00      0.00        33\n",
      "   mothbeans       0.00      0.00      0.00        29\n",
      "    mungbean       1.00      0.06      0.12        32\n",
      "   muskmelon       1.00      0.27      0.42        30\n",
      "      orange       1.00      0.02      0.05        42\n",
      "      papaya       1.00      0.03      0.06        30\n",
      "  pigeonpeas       0.00      0.00      0.00        31\n",
      " pomegranate       0.03      1.00      0.06        19\n",
      "        rice       1.00      0.03      0.06        30\n",
      "  watermelon       1.00      0.18      0.31        22\n",
      "\n",
      "    accuracy                           0.07       660\n",
      "   macro avg       0.55      0.09      0.08       660\n",
      "weighted avg       0.54      0.07      0.08       660\n",
      "\n"
     ]
    }
   ],
   "source": [
    "from sklearn.svm import SVC\n",
    "\n",
    "SVM = SVC(gamma='auto')\n",
    "\n",
    "SVM.fit(Xtrain,Ytrain)\n",
    "\n",
    "predicted_values = SVM.predict(Xtest)\n",
    "\n",
    "x = metrics.accuracy_score(Ytest, predicted_values)\n",
    "acc.append(x)\n",
    "model.append('SVM')\n",
    "print(\"SVM's Accuracy is: \", x)\n",
    "\n",
    "print(classification_report(Ytest,predicted_values))"
   ]
  },
  {
   "cell_type": "code",
   "execution_count": 19,
   "metadata": {},
   "outputs": [
    {
     "data": {
      "text/plain": [
       "array([0.27727273, 0.28863636, 0.29090909, 0.275     , 0.26818182])"
      ]
     },
     "execution_count": 19,
     "metadata": {},
     "output_type": "execute_result"
    }
   ],
   "source": [
    "score = cross_val_score(SVM,features,target,cv=5)\n",
    "score"
   ]
  },
  {
   "cell_type": "markdown",
   "metadata": {},
   "source": [
    "## Training our dataset with LogisticRegression model"
   ]
  },
  {
   "cell_type": "code",
   "execution_count": 20,
   "metadata": {},
   "outputs": [
    {
     "name": "stdout",
     "output_type": "stream",
     "text": [
      "Logistic Regression's Accuracy is:  0.946969696969697\n",
      "              precision    recall  f1-score   support\n",
      "\n",
      "       apple       1.00      1.00      1.00        28\n",
      "      banana       1.00      1.00      1.00        26\n",
      "   blackgram       0.81      0.93      0.87        28\n",
      "    chickpea       1.00      1.00      1.00        29\n",
      "     coconut       1.00      1.00      1.00        31\n",
      "      coffee       1.00      0.97      0.98        33\n",
      "      cotton       0.91      1.00      0.95        31\n",
      "      grapes       1.00      1.00      1.00        29\n",
      "        jute       0.84      0.79      0.81        33\n",
      " kidneybeans       0.97      1.00      0.98        30\n",
      "      lentil       0.91      0.94      0.92        32\n",
      "       maize       1.00      0.91      0.95        32\n",
      "       mango       1.00      1.00      1.00        33\n",
      "   mothbeans       1.00      0.79      0.88        29\n",
      "    mungbean       0.94      0.94      0.94        32\n",
      "   muskmelon       1.00      1.00      1.00        30\n",
      "      orange       1.00      1.00      1.00        42\n",
      "      papaya       0.92      0.80      0.86        30\n",
      "  pigeonpeas       0.90      0.90      0.90        31\n",
      " pomegranate       1.00      0.95      0.97        19\n",
      "        rice       0.74      0.93      0.82        30\n",
      "  watermelon       1.00      1.00      1.00        22\n",
      "\n",
      "    accuracy                           0.95       660\n",
      "   macro avg       0.95      0.95      0.95       660\n",
      "weighted avg       0.95      0.95      0.95       660\n",
      "\n"
     ]
    }
   ],
   "source": [
    "from sklearn.linear_model import LogisticRegression\n",
    "\n",
    "LogReg = LogisticRegression(random_state=2)\n",
    "\n",
    "LogReg.fit(Xtrain,Ytrain)\n",
    "\n",
    "predicted_values = LogReg.predict(Xtest)\n",
    "\n",
    "x = metrics.accuracy_score(Ytest, predicted_values)\n",
    "acc.append(x)\n",
    "model.append('Logistic Regression')\n",
    "print(\"Logistic Regression's Accuracy is: \", x)\n",
    "\n",
    "print(classification_report(Ytest,predicted_values))"
   ]
  },
  {
   "cell_type": "code",
   "execution_count": 21,
   "metadata": {},
   "outputs": [
    {
     "data": {
      "text/plain": [
       "array([0.96818182, 0.93636364, 0.95681818, 0.95681818, 0.94772727])"
      ]
     },
     "execution_count": 21,
     "metadata": {},
     "output_type": "execute_result"
    }
   ],
   "source": [
    "score = cross_val_score(LogReg,features,target,cv=5)\n",
    "score"
   ]
  },
  {
   "cell_type": "markdown",
   "metadata": {},
   "source": [
    "## Training our dataset with RandomForestClassifier model"
   ]
  },
  {
   "cell_type": "code",
   "execution_count": 22,
   "metadata": {},
   "outputs": [
    {
     "name": "stdout",
     "output_type": "stream",
     "text": [
      "RF's Accuracy is:  0.9893939393939394\n",
      "              precision    recall  f1-score   support\n",
      "\n",
      "       apple       1.00      1.00      1.00        28\n",
      "      banana       1.00      1.00      1.00        26\n",
      "   blackgram       0.97      1.00      0.98        28\n",
      "    chickpea       1.00      1.00      1.00        29\n",
      "     coconut       1.00      1.00      1.00        31\n",
      "      coffee       1.00      1.00      1.00        33\n",
      "      cotton       1.00      1.00      1.00        31\n",
      "      grapes       1.00      1.00      1.00        29\n",
      "        jute       0.89      0.94      0.91        33\n",
      " kidneybeans       1.00      1.00      1.00        30\n",
      "      lentil       1.00      1.00      1.00        32\n",
      "       maize       1.00      1.00      1.00        32\n",
      "       mango       1.00      1.00      1.00        33\n",
      "   mothbeans       1.00      0.97      0.98        29\n",
      "    mungbean       1.00      1.00      1.00        32\n",
      "   muskmelon       1.00      1.00      1.00        30\n",
      "      orange       1.00      1.00      1.00        42\n",
      "      papaya       1.00      1.00      1.00        30\n",
      "  pigeonpeas       1.00      1.00      1.00        31\n",
      " pomegranate       1.00      1.00      1.00        19\n",
      "        rice       0.93      0.87      0.90        30\n",
      "  watermelon       1.00      1.00      1.00        22\n",
      "\n",
      "    accuracy                           0.99       660\n",
      "   macro avg       0.99      0.99      0.99       660\n",
      "weighted avg       0.99      0.99      0.99       660\n",
      "\n"
     ]
    }
   ],
   "source": [
    "from sklearn.ensemble import RandomForestClassifier\n",
    "\n",
    "RF = RandomForestClassifier(n_estimators=20, random_state=0)\n",
    "RF.fit(Xtrain,Ytrain)\n",
    "\n",
    "predicted_values = RF.predict(Xtest)\n",
    "\n",
    "x = metrics.accuracy_score(Ytest, predicted_values)\n",
    "acc.append(x)\n",
    "model.append('RF')\n",
    "print(\"RF's Accuracy is: \", x)\n",
    "\n",
    "print(classification_report(Ytest,predicted_values))"
   ]
  },
  {
   "cell_type": "code",
   "execution_count": 23,
   "metadata": {},
   "outputs": [
    {
     "data": {
      "text/plain": [
       "array([0.99772727, 0.99545455, 0.99772727, 0.99318182, 0.98863636])"
      ]
     },
     "execution_count": 23,
     "metadata": {},
     "output_type": "execute_result"
    }
   ],
   "source": [
    "score = cross_val_score(RF,features,target,cv=5)\n",
    "score"
   ]
  },
  {
   "cell_type": "markdown",
   "metadata": {},
   "source": [
    "## KNeighborsClassifier model is generally used to increase accuracy of our model"
   ]
  },
  {
   "cell_type": "code",
   "execution_count": 24,
   "metadata": {},
   "outputs": [
    {
     "name": "stdout",
     "output_type": "stream",
     "text": [
      "KNeighborsClassifier's Accuracy is:  0.9848484848484849\n",
      "              precision    recall  f1-score   support\n",
      "\n",
      "       apple       1.00      1.00      1.00        28\n",
      "      banana       1.00      1.00      1.00        26\n",
      "   blackgram       1.00      1.00      1.00        28\n",
      "    chickpea       1.00      1.00      1.00        29\n",
      "     coconut       1.00      1.00      1.00        31\n",
      "      coffee       1.00      1.00      1.00        33\n",
      "      cotton       0.97      1.00      0.98        31\n",
      "      grapes       1.00      1.00      1.00        29\n",
      "        jute       0.91      0.88      0.89        33\n",
      " kidneybeans       0.97      1.00      0.98        30\n",
      "      lentil       0.97      1.00      0.98        32\n",
      "       maize       1.00      0.97      0.98        32\n",
      "       mango       1.00      1.00      1.00        33\n",
      "   mothbeans       1.00      0.97      0.98        29\n",
      "    mungbean       1.00      1.00      1.00        32\n",
      "   muskmelon       1.00      1.00      1.00        30\n",
      "      orange       1.00      1.00      1.00        42\n",
      "      papaya       1.00      1.00      1.00        30\n",
      "  pigeonpeas       1.00      0.97      0.98        31\n",
      " pomegranate       1.00      1.00      1.00        19\n",
      "        rice       0.87      0.90      0.89        30\n",
      "  watermelon       1.00      1.00      1.00        22\n",
      "\n",
      "    accuracy                           0.98       660\n",
      "   macro avg       0.99      0.99      0.99       660\n",
      "weighted avg       0.99      0.98      0.98       660\n",
      "\n"
     ]
    }
   ],
   "source": [
    "from sklearn.neighbors import KNeighborsClassifier\n",
    "knn = KNeighborsClassifier()\n",
    "knn.fit(Xtrain,Ytrain)\n",
    "\n",
    "predicted_values = knn.predict(Xtest)\n",
    "\n",
    "x = metrics.accuracy_score(Ytest, predicted_values)\n",
    "acc.append(x)\n",
    "model.append('KNeighborsClassifier')\n",
    "print(\"KNeighborsClassifier's Accuracy is: \", x)\n",
    "\n",
    "print(classification_report(Ytest,predicted_values))"
   ]
  },
  {
   "cell_type": "code",
   "execution_count": 25,
   "metadata": {},
   "outputs": [
    {
     "data": {
      "text/plain": [
       "array([0.97727273, 0.98181818, 0.97954545, 0.97954545, 0.97954545])"
      ]
     },
     "execution_count": 25,
     "metadata": {},
     "output_type": "execute_result"
    }
   ],
   "source": [
    "score = cross_val_score(knn,features,target,cv=5)\n",
    "score"
   ]
  },
  {
   "cell_type": "markdown",
   "metadata": {},
   "source": [
    "## Accuracy Comparision  between different ML models using Barplot graph"
   ]
  },
  {
   "cell_type": "code",
   "execution_count": 26,
   "metadata": {},
   "outputs": [
    {
     "data": {
      "text/plain": [
       "<matplotlib.axes._subplots.AxesSubplot at 0x1c46174dac8>"
      ]
     },
     "execution_count": 26,
     "metadata": {},
     "output_type": "execute_result"
    },
    {
     "data": {
      "image/png": "[encoded data removed]",
      "text/plain": [
       "<Figure size 1000x500 with 1 Axes>"
      ]
     },
     "metadata": {
      "needs_background": "light"
     },
     "output_type": "display_data"
    }
   ],
   "source": [
    "plt.figure(figsize=[10,5],dpi = 100)\n",
    "plt.title('Accuracy Comparison')\n",
    "plt.xlabel('Accuracy')\n",
    "plt.ylabel('Algorithm')\n",
    "sns.barplot(x = acc,y = model,palette='dark')"
   ]
  },
  {
   "cell_type": "markdown",
   "metadata": {},
   "source": [
    "## Given input a test data from the user, our model will predict the type of crop"
   ]
  },
  {
   "cell_type": "code",
   "execution_count": 27,
   "metadata": {},
   "outputs": [
    {
     "name": "stdout",
     "output_type": "stream",
     "text": [
      "['rice']\n"
     ]
    }
   ],
   "source": [
    "data = np.array([[90,42, 43, 20.87974371, 82.00274423, 6.502985292, 202.9355362]])\n",
    "prediction = RF.predict(data)\n",
    "print(prediction)"
   ]
  },
  {
   "cell_type": "code",
   "execution_count": 28,
   "metadata": {},
   "outputs": [
    {
     "name": "stdout",
     "output_type": "stream",
     "text": [
      "Rice\n"
     ]
    }
   ],
   "source": [
    "a=str(prediction)\n",
    "res=''\n",
    "for i in a:\n",
    "    if(i>='a' and i<='z'):\n",
    "        res=res+i\n",
    "res=res.capitalize()\n",
    "print(res)"
   ]
  },
  {
   "cell_type": "code",
   "execution_count": 31,
   "metadata": {},
   "outputs": [],
   "source": [
    "import pickle\n",
    "pickle.dump(RF, open('finalmodelnewcolumn.pkl','wb'))"
   ]
  },
  {
   "cell_type": "code",
   "execution_count": null,
   "metadata": {},
   "outputs": [],
   "source": []
  }
 ],
 "metadata": {
  "kernelspec": {
   "display_name": "Python 3",
   "language": "python",
   "name": "python3"
  },
  "language_info": {
   "codemirror_mode": {
    "name": "ipython",
    "version": 3
   },
   "file_extension": ".py",
   "mimetype": "text/x-python",
   "name": "python",
   "nbconvert_exporter": "python",
   "pygments_lexer": "ipython3",
   "version": "3.7.4"
  }
 },
 "nbformat": 4,
 "nbformat_minor": 2
}
